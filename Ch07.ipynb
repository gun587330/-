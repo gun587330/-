{
 "cells": [
  {
   "cell_type": "code",
   "execution_count": 3,
   "id": "b98710ac-a7a4-4a55-aa9f-8a22c249aabe",
   "metadata": {},
   "outputs": [],
   "source": [
    "# 07 데이터 정제 \n",
    "# - 빠진 데이터, 이상한 데이터 제거하기\n",
    "# 결측치(missing value) - 누락된 값, 비어있는 값\n",
    "import pandas as pd\n",
    "import numpy as np"
   ]
  },
  {
   "cell_type": "code",
   "execution_count": 4,
   "id": "a681bb73-78f5-42bd-aed3-ea47127779c1",
   "metadata": {},
   "outputs": [],
   "source": [
    "# 결측치 찾기"
   ]
  },
  {
   "cell_type": "code",
   "execution_count": null,
   "id": "b376bfcf-363f-41cf-9bf5-31dacd9651dc",
   "metadata": {},
   "outputs": [],
   "source": []
  }
 ],
 "metadata": {
  "kernelspec": {
   "display_name": "Python 3 (ipykernel)",
   "language": "python",
   "name": "python3"
  },
  "language_info": {
   "codemirror_mode": {
    "name": "ipython",
    "version": 3
   },
   "file_extension": ".py",
   "mimetype": "text/x-python",
   "name": "python",
   "nbconvert_exporter": "python",
   "pygments_lexer": "ipython3",
   "version": "3.10.9"
  }
 },
 "nbformat": 4,
 "nbformat_minor": 5
}
