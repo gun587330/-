{
 "cells": [
  {
   "cell_type": "code",
   "execution_count": 1,
   "id": "c73f2ab3-de78-4d64-881e-64255b664c54",
   "metadata": {},
   "outputs": [],
   "source": [
    "# 09 데이터 분석 프로젝스 - 한국인의 삶을 파악해라!"
   ]
  },
  {
   "cell_type": "code",
   "execution_count": 6,
   "id": "8d7b5dd1-86ef-4920-b322-0cfdd3dc84e3",
   "metadata": {},
   "outputs": [],
   "source": [
    "# 09-1 '한국복지패널 데이터' 분석 준비하기\n",
    "# package load하기\n",
    "import pandas as pd\n",
    "import numpy as np\n",
    "import seaborn as sns\n",
    "\n",
    "# 3. 데이터 불러오기\n",
    "raw_welfare = pd.read_spss('Koweps_hpwc14_2019_beta2.sav')\n",
    "\n",
    "# 복사본 만들기 > 원본은 복구할 상황 대비\n",
    "welfare = raw_welfare.copy()"
   ]
  },
  {
   "cell_type": "code",
   "execution_count": 8,
   "id": "0cb7f5ac-20e2-40e3-a142-c95c0b222af8",
   "metadata": {},
   "outputs": [],
   "source": [
    "# # 4. 데이터 검토하기\n",
    "welfare            # 앞부분, 뒷부분 출력\n",
    "welfare.shape      # 행, 열 개수 출력\n",
    "welfare.info()     # 변수 속성 출력\n",
    "welfare.describe() # 요약 통계량"
   ]
  },
  {
   "cell_type": "code",
   "execution_count": null,
   "id": "ed9122cc-4e05-489d-b5e1-b8ab4a8c2aef",
   "metadata": {},
   "outputs": [],
   "source": []
  }
 ],
 "metadata": {
  "kernelspec": {
   "display_name": "Python 3 (ipykernel)",
   "language": "python",
   "name": "python3"
  },
  "language_info": {
   "codemirror_mode": {
    "name": "ipython",
    "version": 3
   },
   "file_extension": ".py",
   "mimetype": "text/x-python",
   "name": "python",
   "nbconvert_exporter": "python",
   "pygments_lexer": "ipython3",
   "version": "3.10.9"
  }
 },
 "nbformat": 4,
 "nbformat_minor": 5
}
